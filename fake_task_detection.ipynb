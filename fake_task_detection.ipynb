{
  "cells": [
    {
      "cell_type": "markdown",
      "metadata": {
        "id": "XL7P1C7NNk5U"
      },
      "source": [
        "# Importing Libraries"
      ]
    },
    {
      "cell_type": "code",
      "execution_count": 1,
      "metadata": {
        "id": "9N1XSDSktXh8"
      },
      "outputs": [
        {
          "data": {
            "text/plain": [
              "<Figure size 640x480 with 0 Axes>"
            ]
          },
          "execution_count": 1,
          "metadata": {},
          "output_type": "execute_result"
        },
        {
          "data": {
            "text/plain": [
              "<Figure size 640x480 with 0 Axes>"
            ]
          },
          "metadata": {},
          "output_type": "display_data"
        }
      ],
      "source": [
        "#importing the libraries\n",
        "import matplotlib.pyplot as plt\n",
        "# import seaborn as sns\n",
        "import pandas as pd\n",
        "import numpy as np\n",
        "from sklearn.preprocessing import StandardScaler, MinMaxScaler\n",
        "from sklearn.metrics import accuracy_score ,classification_report\n",
        "\n",
        "\n",
        "from sklearn.model_selection import train_test_split\n",
        "from sklearn.ensemble import RandomForestClassifier\n",
        "\n",
        "from sklearn.ensemble import AdaBoostClassifier\n",
        "import warnings\n",
        "warnings.filterwarnings('ignore')\n",
        "plt.figure(figsize=(8, 6), dpi=80,)"
      ]
    },
    {
      "cell_type": "markdown",
      "metadata": {
        "id": "dUgnOemLNuSr"
      },
      "source": [
        "# Upload Dataset"
      ]
    },
    {
      "cell_type": "code",
      "execution_count": 2,
      "metadata": {
        "colab": {
          "base_uri": "https://localhost:8080/",
          "height": 73,
          "resources": {
            "http://localhost:8080/nbextensions/google.colab/files.js": {
              "data": "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",
              "headers": [
                [
                  "content-type",
                  "application/javascript"
                ]
              ],
              "ok": true,
              "status": 200,
              "status_text": ""
            }
          }
        },
        "id": "BdsaOGx2sKOs",
        "outputId": "9c967f3e-1a3a-4d36-d0f0-d0eac330b679"
      },
      "outputs": [
        {
          "data": {
            "text/html": [
              "<div>\n",
              "<style scoped>\n",
              "    .dataframe tbody tr th:only-of-type {\n",
              "        vertical-align: middle;\n",
              "    }\n",
              "\n",
              "    .dataframe tbody tr th {\n",
              "        vertical-align: top;\n",
              "    }\n",
              "\n",
              "    .dataframe thead th {\n",
              "        text-align: right;\n",
              "    }\n",
              "</style>\n",
              "<table border=\"1\" class=\"dataframe\">\n",
              "  <thead>\n",
              "    <tr style=\"text-align: right;\">\n",
              "      <th></th>\n",
              "      <th>ID</th>\n",
              "      <th>Latitude</th>\n",
              "      <th>Longitude</th>\n",
              "      <th>Day</th>\n",
              "      <th>Hour</th>\n",
              "      <th>Minute</th>\n",
              "      <th>Duration</th>\n",
              "      <th>RemainingTime</th>\n",
              "      <th>Resources</th>\n",
              "      <th>Coverage</th>\n",
              "      <th>OnPeakHours</th>\n",
              "      <th>GridNumber</th>\n",
              "      <th>Ligitimacy</th>\n",
              "    </tr>\n",
              "  </thead>\n",
              "  <tbody>\n",
              "    <tr>\n",
              "      <th>0</th>\n",
              "      <td>1</td>\n",
              "      <td>45.442142</td>\n",
              "      <td>-75.303369</td>\n",
              "      <td>1</td>\n",
              "      <td>4</td>\n",
              "      <td>13</td>\n",
              "      <td>40</td>\n",
              "      <td>40</td>\n",
              "      <td>9</td>\n",
              "      <td>91</td>\n",
              "      <td>0</td>\n",
              "      <td>131380</td>\n",
              "      <td>1</td>\n",
              "    </tr>\n",
              "    <tr>\n",
              "      <th>1</th>\n",
              "      <td>1</td>\n",
              "      <td>45.442154</td>\n",
              "      <td>-75.304366</td>\n",
              "      <td>1</td>\n",
              "      <td>4</td>\n",
              "      <td>23</td>\n",
              "      <td>40</td>\n",
              "      <td>30</td>\n",
              "      <td>9</td>\n",
              "      <td>91</td>\n",
              "      <td>0</td>\n",
              "      <td>131380</td>\n",
              "      <td>1</td>\n",
              "    </tr>\n",
              "    <tr>\n",
              "      <th>2</th>\n",
              "      <td>1</td>\n",
              "      <td>45.442104</td>\n",
              "      <td>-75.303963</td>\n",
              "      <td>1</td>\n",
              "      <td>4</td>\n",
              "      <td>33</td>\n",
              "      <td>40</td>\n",
              "      <td>20</td>\n",
              "      <td>9</td>\n",
              "      <td>91</td>\n",
              "      <td>0</td>\n",
              "      <td>121996</td>\n",
              "      <td>1</td>\n",
              "    </tr>\n",
              "    <tr>\n",
              "      <th>3</th>\n",
              "      <td>1</td>\n",
              "      <td>45.441868</td>\n",
              "      <td>-75.303577</td>\n",
              "      <td>1</td>\n",
              "      <td>4</td>\n",
              "      <td>43</td>\n",
              "      <td>40</td>\n",
              "      <td>10</td>\n",
              "      <td>9</td>\n",
              "      <td>91</td>\n",
              "      <td>0</td>\n",
              "      <td>121996</td>\n",
              "      <td>1</td>\n",
              "    </tr>\n",
              "    <tr>\n",
              "      <th>4</th>\n",
              "      <td>2</td>\n",
              "      <td>45.447727</td>\n",
              "      <td>-75.147722</td>\n",
              "      <td>2</td>\n",
              "      <td>15</td>\n",
              "      <td>49</td>\n",
              "      <td>30</td>\n",
              "      <td>30</td>\n",
              "      <td>5</td>\n",
              "      <td>47</td>\n",
              "      <td>0</td>\n",
              "      <td>140784</td>\n",
              "      <td>1</td>\n",
              "    </tr>\n",
              "    <tr>\n",
              "      <th>5</th>\n",
              "      <td>2</td>\n",
              "      <td>45.447747</td>\n",
              "      <td>-75.147951</td>\n",
              "      <td>2</td>\n",
              "      <td>15</td>\n",
              "      <td>59</td>\n",
              "      <td>30</td>\n",
              "      <td>20</td>\n",
              "      <td>5</td>\n",
              "      <td>47</td>\n",
              "      <td>0</td>\n",
              "      <td>140784</td>\n",
              "      <td>1</td>\n",
              "    </tr>\n",
              "    <tr>\n",
              "      <th>6</th>\n",
              "      <td>2</td>\n",
              "      <td>45.447790</td>\n",
              "      <td>-75.148303</td>\n",
              "      <td>2</td>\n",
              "      <td>16</td>\n",
              "      <td>9</td>\n",
              "      <td>30</td>\n",
              "      <td>10</td>\n",
              "      <td>5</td>\n",
              "      <td>47</td>\n",
              "      <td>0</td>\n",
              "      <td>140784</td>\n",
              "      <td>1</td>\n",
              "    </tr>\n",
              "    <tr>\n",
              "      <th>7</th>\n",
              "      <td>3</td>\n",
              "      <td>45.508896</td>\n",
              "      <td>-75.259807</td>\n",
              "      <td>2</td>\n",
              "      <td>12</td>\n",
              "      <td>27</td>\n",
              "      <td>30</td>\n",
              "      <td>30</td>\n",
              "      <td>4</td>\n",
              "      <td>43</td>\n",
              "      <td>0</td>\n",
              "      <td>243994</td>\n",
              "      <td>1</td>\n",
              "    </tr>\n",
              "    <tr>\n",
              "      <th>8</th>\n",
              "      <td>3</td>\n",
              "      <td>45.508748</td>\n",
              "      <td>-75.260652</td>\n",
              "      <td>2</td>\n",
              "      <td>12</td>\n",
              "      <td>37</td>\n",
              "      <td>30</td>\n",
              "      <td>20</td>\n",
              "      <td>4</td>\n",
              "      <td>43</td>\n",
              "      <td>0</td>\n",
              "      <td>243994</td>\n",
              "      <td>1</td>\n",
              "    </tr>\n",
              "    <tr>\n",
              "      <th>9</th>\n",
              "      <td>3</td>\n",
              "      <td>45.508082</td>\n",
              "      <td>-75.260380</td>\n",
              "      <td>2</td>\n",
              "      <td>12</td>\n",
              "      <td>47</td>\n",
              "      <td>30</td>\n",
              "      <td>10</td>\n",
              "      <td>4</td>\n",
              "      <td>43</td>\n",
              "      <td>0</td>\n",
              "      <td>243994</td>\n",
              "      <td>1</td>\n",
              "    </tr>\n",
              "    <tr>\n",
              "      <th>10</th>\n",
              "      <td>4</td>\n",
              "      <td>45.494207</td>\n",
              "      <td>-75.195014</td>\n",
              "      <td>1</td>\n",
              "      <td>11</td>\n",
              "      <td>37</td>\n",
              "      <td>30</td>\n",
              "      <td>30</td>\n",
              "      <td>3</td>\n",
              "      <td>68</td>\n",
              "      <td>0</td>\n",
              "      <td>215850</td>\n",
              "      <td>1</td>\n",
              "    </tr>\n",
              "    <tr>\n",
              "      <th>11</th>\n",
              "      <td>4</td>\n",
              "      <td>45.493973</td>\n",
              "      <td>-75.195148</td>\n",
              "      <td>1</td>\n",
              "      <td>11</td>\n",
              "      <td>47</td>\n",
              "      <td>30</td>\n",
              "      <td>20</td>\n",
              "      <td>3</td>\n",
              "      <td>68</td>\n",
              "      <td>0</td>\n",
              "      <td>215850</td>\n",
              "      <td>1</td>\n",
              "    </tr>\n",
              "    <tr>\n",
              "      <th>12</th>\n",
              "      <td>4</td>\n",
              "      <td>45.493472</td>\n",
              "      <td>-75.195086</td>\n",
              "      <td>1</td>\n",
              "      <td>11</td>\n",
              "      <td>57</td>\n",
              "      <td>30</td>\n",
              "      <td>10</td>\n",
              "      <td>3</td>\n",
              "      <td>68</td>\n",
              "      <td>0</td>\n",
              "      <td>215850</td>\n",
              "      <td>1</td>\n",
              "    </tr>\n",
              "    <tr>\n",
              "      <th>13</th>\n",
              "      <td>5</td>\n",
              "      <td>45.381415</td>\n",
              "      <td>-75.257745</td>\n",
              "      <td>0</td>\n",
              "      <td>19</td>\n",
              "      <td>22</td>\n",
              "      <td>30</td>\n",
              "      <td>30</td>\n",
              "      <td>3</td>\n",
              "      <td>90</td>\n",
              "      <td>0</td>\n",
              "      <td>18778</td>\n",
              "      <td>1</td>\n",
              "    </tr>\n",
              "    <tr>\n",
              "      <th>14</th>\n",
              "      <td>5</td>\n",
              "      <td>45.381364</td>\n",
              "      <td>-75.258572</td>\n",
              "      <td>0</td>\n",
              "      <td>19</td>\n",
              "      <td>32</td>\n",
              "      <td>30</td>\n",
              "      <td>20</td>\n",
              "      <td>3</td>\n",
              "      <td>90</td>\n",
              "      <td>0</td>\n",
              "      <td>18778</td>\n",
              "      <td>1</td>\n",
              "    </tr>\n",
              "    <tr>\n",
              "      <th>15</th>\n",
              "      <td>5</td>\n",
              "      <td>45.381307</td>\n",
              "      <td>-75.258398</td>\n",
              "      <td>0</td>\n",
              "      <td>19</td>\n",
              "      <td>42</td>\n",
              "      <td>30</td>\n",
              "      <td>10</td>\n",
              "      <td>3</td>\n",
              "      <td>90</td>\n",
              "      <td>0</td>\n",
              "      <td>18778</td>\n",
              "      <td>1</td>\n",
              "    </tr>\n",
              "    <tr>\n",
              "      <th>16</th>\n",
              "      <td>6</td>\n",
              "      <td>45.410236</td>\n",
              "      <td>-75.208755</td>\n",
              "      <td>3</td>\n",
              "      <td>22</td>\n",
              "      <td>25</td>\n",
              "      <td>30</td>\n",
              "      <td>30</td>\n",
              "      <td>10</td>\n",
              "      <td>32</td>\n",
              "      <td>0</td>\n",
              "      <td>75088</td>\n",
              "      <td>1</td>\n",
              "    </tr>\n",
              "    <tr>\n",
              "      <th>17</th>\n",
              "      <td>6</td>\n",
              "      <td>45.409787</td>\n",
              "      <td>-75.208022</td>\n",
              "      <td>3</td>\n",
              "      <td>22</td>\n",
              "      <td>35</td>\n",
              "      <td>30</td>\n",
              "      <td>20</td>\n",
              "      <td>10</td>\n",
              "      <td>32</td>\n",
              "      <td>0</td>\n",
              "      <td>75088</td>\n",
              "      <td>1</td>\n",
              "    </tr>\n",
              "    <tr>\n",
              "      <th>18</th>\n",
              "      <td>6</td>\n",
              "      <td>45.409407</td>\n",
              "      <td>-75.207825</td>\n",
              "      <td>3</td>\n",
              "      <td>22</td>\n",
              "      <td>45</td>\n",
              "      <td>30</td>\n",
              "      <td>10</td>\n",
              "      <td>10</td>\n",
              "      <td>32</td>\n",
              "      <td>0</td>\n",
              "      <td>65704</td>\n",
              "      <td>1</td>\n",
              "    </tr>\n",
              "    <tr>\n",
              "      <th>19</th>\n",
              "      <td>7</td>\n",
              "      <td>45.565229</td>\n",
              "      <td>-75.234010</td>\n",
              "      <td>5</td>\n",
              "      <td>12</td>\n",
              "      <td>9</td>\n",
              "      <td>50</td>\n",
              "      <td>50</td>\n",
              "      <td>9</td>\n",
              "      <td>75</td>\n",
              "      <td>0</td>\n",
              "      <td>337837</td>\n",
              "      <td>0</td>\n",
              "    </tr>\n",
              "  </tbody>\n",
              "</table>\n",
              "</div>"
            ],
            "text/plain": [
              "    ID   Latitude  Longitude  Day  Hour  Minute  Duration  RemainingTime  \\\n",
              "0    1  45.442142 -75.303369    1     4      13        40             40   \n",
              "1    1  45.442154 -75.304366    1     4      23        40             30   \n",
              "2    1  45.442104 -75.303963    1     4      33        40             20   \n",
              "3    1  45.441868 -75.303577    1     4      43        40             10   \n",
              "4    2  45.447727 -75.147722    2    15      49        30             30   \n",
              "5    2  45.447747 -75.147951    2    15      59        30             20   \n",
              "6    2  45.447790 -75.148303    2    16       9        30             10   \n",
              "7    3  45.508896 -75.259807    2    12      27        30             30   \n",
              "8    3  45.508748 -75.260652    2    12      37        30             20   \n",
              "9    3  45.508082 -75.260380    2    12      47        30             10   \n",
              "10   4  45.494207 -75.195014    1    11      37        30             30   \n",
              "11   4  45.493973 -75.195148    1    11      47        30             20   \n",
              "12   4  45.493472 -75.195086    1    11      57        30             10   \n",
              "13   5  45.381415 -75.257745    0    19      22        30             30   \n",
              "14   5  45.381364 -75.258572    0    19      32        30             20   \n",
              "15   5  45.381307 -75.258398    0    19      42        30             10   \n",
              "16   6  45.410236 -75.208755    3    22      25        30             30   \n",
              "17   6  45.409787 -75.208022    3    22      35        30             20   \n",
              "18   6  45.409407 -75.207825    3    22      45        30             10   \n",
              "19   7  45.565229 -75.234010    5    12       9        50             50   \n",
              "\n",
              "    Resources  Coverage  OnPeakHours  GridNumber  Ligitimacy  \n",
              "0           9        91            0      131380           1  \n",
              "1           9        91            0      131380           1  \n",
              "2           9        91            0      121996           1  \n",
              "3           9        91            0      121996           1  \n",
              "4           5        47            0      140784           1  \n",
              "5           5        47            0      140784           1  \n",
              "6           5        47            0      140784           1  \n",
              "7           4        43            0      243994           1  \n",
              "8           4        43            0      243994           1  \n",
              "9           4        43            0      243994           1  \n",
              "10          3        68            0      215850           1  \n",
              "11          3        68            0      215850           1  \n",
              "12          3        68            0      215850           1  \n",
              "13          3        90            0       18778           1  \n",
              "14          3        90            0       18778           1  \n",
              "15          3        90            0       18778           1  \n",
              "16         10        32            0       75088           1  \n",
              "17         10        32            0       75088           1  \n",
              "18         10        32            0       65704           1  \n",
              "19          9        75            0      337837           0  "
            ]
          },
          "execution_count": 2,
          "metadata": {},
          "output_type": "execute_result"
        }
      ],
      "source": [
        "#reading the dataset\n",
        "directory = \"D:/DEBI/Uottawa/Smart Cities/project/\"\n",
        "MCS_dataset = pd.read_csv(directory+'MCSDatasetNEXTCONLab.csv')\n",
        "MCS_dataset.head(20)"
      ]
    },
    {
      "cell_type": "code",
      "execution_count": 4,
      "metadata": {
        "colab": {
          "base_uri": "https://localhost:8080/",
          "height": 206
        },
        "id": "I2Ek1LUATVDW",
        "outputId": "dfd24cd6-c5d9-4f59-a8c0-7ba36cd4c14c"
      },
      "outputs": [
        {
          "data": {
            "text/html": [
              "<div>\n",
              "<style scoped>\n",
              "    .dataframe tbody tr th:only-of-type {\n",
              "        vertical-align: middle;\n",
              "    }\n",
              "\n",
              "    .dataframe tbody tr th {\n",
              "        vertical-align: top;\n",
              "    }\n",
              "\n",
              "    .dataframe thead th {\n",
              "        text-align: right;\n",
              "    }\n",
              "</style>\n",
              "<table border=\"1\" class=\"dataframe\">\n",
              "  <thead>\n",
              "    <tr style=\"text-align: right;\">\n",
              "      <th></th>\n",
              "      <th>Latitude</th>\n",
              "      <th>Longitude</th>\n",
              "      <th>Day</th>\n",
              "      <th>Hour</th>\n",
              "      <th>Minute</th>\n",
              "      <th>Duration</th>\n",
              "      <th>RemainingTime</th>\n",
              "      <th>Resources</th>\n",
              "      <th>Coverage</th>\n",
              "      <th>OnPeakHours</th>\n",
              "      <th>GridNumber</th>\n",
              "    </tr>\n",
              "  </thead>\n",
              "  <tbody>\n",
              "    <tr>\n",
              "      <th>0</th>\n",
              "      <td>45.442142</td>\n",
              "      <td>-75.303369</td>\n",
              "      <td>1</td>\n",
              "      <td>4</td>\n",
              "      <td>13</td>\n",
              "      <td>40</td>\n",
              "      <td>40</td>\n",
              "      <td>9</td>\n",
              "      <td>91</td>\n",
              "      <td>0</td>\n",
              "      <td>131380</td>\n",
              "    </tr>\n",
              "    <tr>\n",
              "      <th>1</th>\n",
              "      <td>45.442154</td>\n",
              "      <td>-75.304366</td>\n",
              "      <td>1</td>\n",
              "      <td>4</td>\n",
              "      <td>23</td>\n",
              "      <td>40</td>\n",
              "      <td>30</td>\n",
              "      <td>9</td>\n",
              "      <td>91</td>\n",
              "      <td>0</td>\n",
              "      <td>131380</td>\n",
              "    </tr>\n",
              "    <tr>\n",
              "      <th>2</th>\n",
              "      <td>45.442104</td>\n",
              "      <td>-75.303963</td>\n",
              "      <td>1</td>\n",
              "      <td>4</td>\n",
              "      <td>33</td>\n",
              "      <td>40</td>\n",
              "      <td>20</td>\n",
              "      <td>9</td>\n",
              "      <td>91</td>\n",
              "      <td>0</td>\n",
              "      <td>121996</td>\n",
              "    </tr>\n",
              "    <tr>\n",
              "      <th>3</th>\n",
              "      <td>45.441868</td>\n",
              "      <td>-75.303577</td>\n",
              "      <td>1</td>\n",
              "      <td>4</td>\n",
              "      <td>43</td>\n",
              "      <td>40</td>\n",
              "      <td>10</td>\n",
              "      <td>9</td>\n",
              "      <td>91</td>\n",
              "      <td>0</td>\n",
              "      <td>121996</td>\n",
              "    </tr>\n",
              "    <tr>\n",
              "      <th>4</th>\n",
              "      <td>45.447727</td>\n",
              "      <td>-75.147722</td>\n",
              "      <td>2</td>\n",
              "      <td>15</td>\n",
              "      <td>49</td>\n",
              "      <td>30</td>\n",
              "      <td>30</td>\n",
              "      <td>5</td>\n",
              "      <td>47</td>\n",
              "      <td>0</td>\n",
              "      <td>140784</td>\n",
              "    </tr>\n",
              "  </tbody>\n",
              "</table>\n",
              "</div>"
            ],
            "text/plain": [
              "    Latitude  Longitude  Day  Hour  Minute  Duration  RemainingTime  \\\n",
              "0  45.442142 -75.303369    1     4      13        40             40   \n",
              "1  45.442154 -75.304366    1     4      23        40             30   \n",
              "2  45.442104 -75.303963    1     4      33        40             20   \n",
              "3  45.441868 -75.303577    1     4      43        40             10   \n",
              "4  45.447727 -75.147722    2    15      49        30             30   \n",
              "\n",
              "   Resources  Coverage  OnPeakHours  GridNumber  \n",
              "0          9        91            0      131380  \n",
              "1          9        91            0      131380  \n",
              "2          9        91            0      121996  \n",
              "3          9        91            0      121996  \n",
              "4          5        47            0      140784  "
            ]
          },
          "execution_count": 4,
          "metadata": {},
          "output_type": "execute_result"
        }
      ],
      "source": [
        "y_target=MCS_dataset['Ligitimacy']\n",
        "# remove the ID and Ligitimacy columns\n",
        "X_data=MCS_dataset.iloc[:,1:-1]\n",
        "X_data.head()"
      ]
    },
    {
      "cell_type": "code",
      "execution_count": 5,
      "metadata": {},
      "outputs": [
        {
          "data": {
            "text/plain": [
              "1    12587\n",
              "0     1897\n",
              "Name: Ligitimacy, dtype: int64"
            ]
          },
          "execution_count": 5,
          "metadata": {},
          "output_type": "execute_result"
        }
      ],
      "source": [
        "y_target.value_counts()\n"
      ]
    },
    {
      "cell_type": "markdown",
      "metadata": {
        "id": "HUvA9xvuOdZL"
      },
      "source": [
        "## Data Scaling"
      ]
    },
    {
      "cell_type": "code",
      "execution_count": 7,
      "metadata": {
        "colab": {
          "base_uri": "https://localhost:8080/"
        },
        "id": "YrPYhT24X01I",
        "outputId": "cad0c4da-86e6-490a-ca6a-761d77e14d3c"
      },
      "outputs": [
        {
          "data": {
            "text/plain": [
              "array([[-0.71020988, -1.57371219, -0.88823172, ...,  1.26573362,\n",
              "        -0.47299496, -0.66533822],\n",
              "       [-0.71000221, -1.59200248, -0.88823172, ...,  1.26573362,\n",
              "        -0.47299496, -0.66533822],\n",
              "       [-0.71084985, -1.58461158, -0.88823172, ...,  1.26573362,\n",
              "        -0.47299496, -0.75761714],\n",
              "       ...,\n",
              "       [-0.80277162,  1.19609836, -1.47493129, ..., -0.11285653,\n",
              "        -0.47299496, -0.7574303 ],\n",
              "       [-0.79775666,  1.18029048, -1.47493129, ..., -0.11285653,\n",
              "        -0.47299496, -0.7574303 ],\n",
              "       [-0.79766935,  1.18098113, -1.47493129, ..., -0.11285653,\n",
              "        -0.47299496, -0.7574303 ]])"
            ]
          },
          "execution_count": 7,
          "metadata": {},
          "output_type": "execute_result"
        }
      ],
      "source": [
        "# standardize the dataset\n",
        "scaler = StandardScaler()\n",
        "data_scaled = scaler.fit_transform(X_data)\n",
        "data_scaled"
      ]
    },
    {
      "cell_type": "markdown",
      "metadata": {
        "id": "yOvaJdLzOnf8"
      },
      "source": [
        "## 2. Split the dataset into training dataset (80%) and test dataset (20%)"
      ]
    },
    {
      "cell_type": "code",
      "execution_count": 8,
      "metadata": {
        "id": "fvo73ia26WS0"
      },
      "outputs": [],
      "source": [
        "# Split dataset into 80% training set and 20% test set\n",
        "X_train, X_test, y_train, y_test = train_test_split(data_scaled, y_target, test_size=0.2,random_state=0)  "
      ]
    },
    {
      "cell_type": "code",
      "execution_count": 9,
      "metadata": {
        "colab": {
          "base_uri": "https://localhost:8080/"
        },
        "id": "irf4EfIAVEi7",
        "outputId": "63db416d-722a-4bc7-b925-85d29de17c86"
      },
      "outputs": [
        {
          "name": "stdout",
          "output_type": "stream",
          "text": [
            "shape of original dataset : (14484, 13)\n",
            "shape of input - training set (11587, 11)\n",
            "shape of output - training set (11587,)\n",
            "shape of input - testing set (2897, 11)\n",
            "shape of output - testing set (2897,)\n"
          ]
        }
      ],
      "source": [
        "# To verify the split\n",
        "print(\"shape of original dataset :\", MCS_dataset.shape)\n",
        "print(\"shape of input - training set\", X_train.shape)\n",
        "print(\"shape of output - training set\", y_train.shape)\n",
        "print(\"shape of input - testing set\", X_test.shape)\n",
        "print(\"shape of output - testing set\", y_test.shape)"
      ]
    },
    {
      "cell_type": "markdown",
      "metadata": {
        "id": "UalgL22VOv_v"
      },
      "source": [
        "# Implement classic classifiers (Adaboost and RF) and Train"
      ]
    },
    {
      "cell_type": "markdown",
      "metadata": {},
      "source": [
        "1. RF"
      ]
    },
    {
      "cell_type": "code",
      "execution_count": 10,
      "metadata": {
        "colab": {
          "base_uri": "https://localhost:8080/"
        },
        "id": "5gFWXuWZqEJk",
        "outputId": "658db02b-ad31-4be2-8bea-3378e0903533"
      },
      "outputs": [
        {
          "name": "stdout",
          "output_type": "stream",
          "text": [
            "Test Accuracy of RF base =  0.9965481532619952 \n",
            "\n",
            "              precision    recall  f1-score   support\n",
            "\n",
            "           0       1.00      0.98      0.99       390\n",
            "           1       1.00      1.00      1.00      2507\n",
            "\n",
            "    accuracy                           1.00      2897\n",
            "   macro avg       1.00      0.99      0.99      2897\n",
            "weighted avg       1.00      1.00      1.00      2897\n",
            "\n"
          ]
        }
      ],
      "source": [
        "# RandomForestClassifier\n",
        "\n",
        "RF = RandomForestClassifier()\n",
        "RF.fit(X_train, y_train) \n",
        "\n",
        "#Predict using the test set\n",
        "pred_RF_base = RF.predict(X_test)\n",
        "\n",
        "# Calculate Model Accuracy\n",
        "Accuracy_RF_base= accuracy_score(y_test, pred_RF_base)\n",
        "print(\"Test Accuracy of RF base = \",Accuracy_RF_base,\"\\n\")\n",
        "print(classification_report( y_test,pred_RF_base))"
      ]
    },
    {
      "cell_type": "markdown",
      "metadata": {
        "id": "PPJEA-VoPAWM"
      },
      "source": [
        "2.   AdaBoost (AB)"
      ]
    },
    {
      "cell_type": "code",
      "execution_count": 12,
      "metadata": {
        "colab": {
          "base_uri": "https://localhost:8080/"
        },
        "id": "fln2vbZAH97-",
        "outputId": "2587d12e-5787-401c-f1f8-d5742c7edbc4"
      },
      "outputs": [
        {
          "name": "stdout",
          "output_type": "stream",
          "text": [
            "Test Accuracy of AdaBoost base =  0.9527096996893338 \n",
            "\n",
            "              precision    recall  f1-score   support\n",
            "\n",
            "           0       0.88      0.75      0.81       390\n",
            "           1       0.96      0.98      0.97      2507\n",
            "\n",
            "    accuracy                           0.95      2897\n",
            "   macro avg       0.92      0.87      0.89      2897\n",
            "weighted avg       0.95      0.95      0.95      2897\n",
            "\n"
          ]
        }
      ],
      "source": [
        "# AdaBoostClassifier\n",
        "AdaBoost = AdaBoostClassifier()\n",
        "AdaBoost.fit(X_train, y_train)\n",
        "\n",
        "# Predict the response for test dataset\n",
        "pred_ADB_base = AdaBoost.predict(X_test)\n",
        "\n",
        "# Calculate Model Accuracy \n",
        "Accuracy_ADB_base = accuracy_score(y_test, pred_ADB_base)\n",
        "print(\"Test Accuracy of AdaBoost base = \",Accuracy_ADB_base,\"\\n\")\n",
        "print(classification_report( y_test,pred_ADB_base))\n"
      ]
    },
    {
      "cell_type": "markdown",
      "metadata": {},
      "source": [
        "# Verify detection performance using test dataset and present results comparison in bar chart"
      ]
    },
    {
      "cell_type": "code",
      "execution_count": 13,
      "metadata": {},
      "outputs": [
        {
          "data": {
            "image/png": "[encoded data removed]",
            "text/plain": [
              "<Figure size 600x400 with 1 Axes>"
            ]
          },
          "metadata": {
            "needs_background": "light"
          },
          "output_type": "display_data"
        }
      ],
      "source": [
        "models_names = ['RF','Adaboost']\n",
        "models_accuracies = [Accuracy_RF_base, Accuracy_ADB_base]\n",
        "plt.figure(dpi=100)\n",
        "bar = plt.bar(models_names ,models_accuracies, color= 'royalblue', align='center', alpha=0.5,width = 0.50)\n",
        "plt.title('Models comparison under original test dataset')\n",
        "plt.ylabel('Accuracy')\n",
        "# plt.xticks(color = 'black',rotation = 45, horizontalalignment = 'right')\n",
        "plt.bar_label(bar)\n",
        "plt.ylim(0.7,1.1)\n",
        "plt.show()"
      ]
    },
    {
      "cell_type": "markdown",
      "metadata": {},
      "source": [
        "# CGAN"
      ]
    },
    {
      "cell_type": "markdown",
      "metadata": {},
      "source": [
        "## Implement a CGAN model"
      ]
    },
    {
      "cell_type": "code",
      "execution_count": 14,
      "metadata": {},
      "outputs": [],
      "source": [
        "import numpy as np\n",
        "import pandas as pd\n",
        "import matplotlib.pyplot as plt\n",
        "# import seaborn as sns\n",
        "from sklearn.preprocessing import StandardScaler\n",
        "from sklearn.metrics import  accuracy_score,classification_report\n",
        "from sklearn.model_selection import train_test_split\n",
        "\n",
        "# import lightgbm as lgb\n",
        "from tensorflow.keras.layers import Input, Dense, Flatten, Dropout, multiply\n",
        "from tensorflow.keras.layers import BatchNormalization, Embedding, LeakyReLU\n",
        "from tensorflow.keras.models import Sequential, Model\n",
        "from tensorflow.keras.optimizers import Adam\n",
        "from tensorflow.keras.initializers import RandomNormal\n",
        "from sklearn.utils import shuffle\n",
        "\n",
        "np.random.seed(0)"
      ]
    },
    {
      "cell_type": "code",
      "execution_count": 15,
      "metadata": {},
      "outputs": [],
      "source": [
        "class cGAN():   \n",
        "    def __init__(self,latent_dim=32, out_shape=14):\n",
        "        \n",
        "        self.latent_dim = latent_dim\n",
        "        self.out_shape = out_shape \n",
        "        self.num_classes = 2\n",
        "        # using Adam as our optimizer\n",
        "        optimizer = Adam(0.0002, 0.5)\n",
        "        \n",
        "        # building the discriminator\n",
        "        self.discriminator = self.discriminator()\n",
        "        self.discriminator.compile(loss=['binary_crossentropy'],\n",
        "                                   optimizer=optimizer,\n",
        "                                   metrics=['accuracy'])\n",
        "\n",
        "        # building the generator\n",
        "        self.generator = self.generator()\n",
        "\n",
        "        noise = Input(shape=(self.latent_dim,))\n",
        "        label = Input(shape=(1,))\n",
        "        gen_samples = self.generator([noise, label])\n",
        "        \n",
        "        # we don't train discriminator when training generator\n",
        "        self.discriminator.trainable = False\n",
        "        valid = self.discriminator([gen_samples, label])\n",
        "\n",
        "        # combining both models\n",
        "        self.combined = Model([noise, label], valid)\n",
        "        self.combined.compile(loss=['binary_crossentropy'],\n",
        "                              optimizer=optimizer,\n",
        "                             metrics=['accuracy'])\n",
        "    def generator(self):\n",
        "        init = RandomNormal(mean=0.0, stddev=0.02)\n",
        "        model = Sequential()\n",
        "\n",
        "        model.add(Dense(128, input_dim=self.latent_dim))\n",
        "        model.add(Dropout(0.2))\n",
        "        model.add(LeakyReLU(alpha=0.2))\n",
        "        model.add(BatchNormalization(momentum=0.8))\n",
        "\n",
        "        model.add(Dense(256))\n",
        "        model.add(Dropout(0.2))\n",
        "        model.add(LeakyReLU(alpha=0.2))\n",
        "        model.add(BatchNormalization(momentum=0.8))\n",
        "\n",
        "        model.add(Dense(512))\n",
        "        model.add(Dropout(0.2))\n",
        "        model.add(LeakyReLU(alpha=0.2))\n",
        "        model.add(BatchNormalization(momentum=0.8))\n",
        "\n",
        "        model.add(Dense(self.out_shape, activation='tanh'))\n",
        "\n",
        "        noise = Input(shape=(self.latent_dim,))\n",
        "        label = Input(shape=(1,), dtype='int32')\n",
        "        label_embedding = Flatten()(Embedding(self.num_classes, self.latent_dim)(label))\n",
        "        \n",
        "        model_input = multiply([noise, label_embedding])\n",
        "        gen_sample = model(model_input)\n",
        "\n",
        "        return Model([noise, label], gen_sample, name=\"Generator\")\n",
        "\n",
        "    \n",
        "    def discriminator(self):\n",
        "        init = RandomNormal(mean=0.0, stddev=0.02)\n",
        "        model = Sequential()\n",
        "\n",
        "        model.add(Dense(512, input_dim=self.out_shape, kernel_initializer=init))\n",
        "        model.add(LeakyReLU(alpha=0.2))\n",
        "        \n",
        "        model.add(Dense(256, kernel_initializer=init))\n",
        "        model.add(LeakyReLU(alpha=0.2))\n",
        "        model.add(Dropout(0.4))\n",
        "        \n",
        "        model.add(Dense(128, kernel_initializer=init))\n",
        "        model.add(LeakyReLU(alpha=0.2))\n",
        "        model.add(Dropout(0.4))\n",
        "        \n",
        "        model.add(Dense(1, activation='sigmoid'))\n",
        "        \n",
        "        gen_sample = Input(shape=(self.out_shape,))\n",
        "        label = Input(shape=(1,), dtype='int32')\n",
        "        label_embedding = Flatten()(Embedding(self.num_classes, self.out_shape)(label))\n",
        "\n",
        "        model_input = multiply([gen_sample, label_embedding])\n",
        "        validity = model(model_input)\n",
        "\n",
        "        return Model(inputs=[gen_sample, label], outputs=validity, name=\"Discriminator\")\n",
        "\n",
        "\n",
        "    def train(self, X_train, y_train, pos_index, neg_index, epochs, sampling=False, batch_size=32, sample_interval=100, plot=True): \n",
        "        \n",
        "        # though not recommended, defining losses as global helps as in analysing our cgan out of the class\n",
        "        global G_losses\n",
        "        global D_losses\n",
        "        \n",
        "        G_losses = []\n",
        "        D_losses = []\n",
        "        # Adversarial ground truths\n",
        "        valid = np.ones((batch_size, 1))\n",
        "        fake = np.zeros((batch_size, 1))\n",
        "\n",
        "        for epoch in range(epochs):\n",
        "            \n",
        "            # if sampling==True --> train discriminator with 8 sample from postivite class and rest with negative class\n",
        "            if sampling:\n",
        "                idx1 = np.random.choice(pos_index, 8)\n",
        "                idx0 = np.random.choice(neg_index, batch_size-8)\n",
        "                idx = np.concatenate((idx1, idx0))\n",
        "            # if sampling!=True --> train discriminator using random instances in batches of 32\n",
        "            else:\n",
        "                idx = np.random.choice(len(y_train), batch_size)\n",
        "            samples, labels = X_train[idx], y_train[idx]\n",
        "            samples, labels = shuffle(samples, labels)\n",
        "            \n",
        "            # Sample noise as generator input\n",
        "            noise = np.random.normal(0, 1, (batch_size, self.latent_dim))\n",
        "            gen_samples = self.generator.predict([noise, labels])\n",
        "\n",
        "            # label smoothing\n",
        "            if epoch < epochs//1.5:\n",
        "                valid_smooth = (valid+0.1)-(np.random.random(valid.shape)*0.1)\n",
        "                fake_smooth = (fake-0.1)+(np.random.random(fake.shape)*0.1)\n",
        "            else:\n",
        "                valid_smooth = valid \n",
        "                fake_smooth = fake\n",
        "                \n",
        "            # Train the discriminator\n",
        "            self.discriminator.trainable = True\n",
        "            d_loss_real = self.discriminator.train_on_batch([samples, labels], valid_smooth)\n",
        "            d_loss_fake = self.discriminator.train_on_batch([gen_samples, labels], fake_smooth)\n",
        "            d_loss = 0.5 * np.add(d_loss_real, d_loss_fake)\n",
        "\n",
        "            # Train Generator\n",
        "            self.discriminator.trainable = False\n",
        "            sampled_labels = np.random.randint(0, 2, batch_size).reshape(-1, 1)\n",
        "            # Train the generator\n",
        "            g_loss = self.combined.train_on_batch([noise, sampled_labels], valid)\n",
        "\n",
        "            if (epoch+1)%sample_interval==0:\n",
        "                print('[%d/%d]\\tLoss_D: %.4f\\tLoss_G: %.4f'\n",
        "                  % (epoch, epochs, d_loss[0], g_loss[0]))\n",
        "            G_losses.append(g_loss[0])\n",
        "            D_losses.append(d_loss[0])\n",
        "            if plot:\n",
        "                if epoch+1==epochs:\n",
        "                    plt.figure(figsize=(10,5))\n",
        "                    plt.title(\"Generator and Discriminator Loss\")\n",
        "                    plt.plot(G_losses,label=\"G\")\n",
        "                    plt.plot(D_losses,label=\"D\")\n",
        "                    plt.xlabel(\"iterations\")\n",
        "                    plt.ylabel(\"Loss\")\n",
        "                    plt.legend()\n",
        "                    plt.show()"
      ]
    },
    {
      "cell_type": "code",
      "execution_count": 16,
      "metadata": {},
      "outputs": [],
      "source": [
        "def generate_instances( cgan,num_instances,label_class, data_columns =[]):\n",
        "    noise = np.random.normal(0, 1, (num_instances, 32))\n",
        "    \n",
        "    if label_class==0:\n",
        "        sampled_labels = np.zeros(num_instances).reshape(-1, 1)\n",
        "        gen_samples = cgan.generator.predict([noise, sampled_labels])\n",
        "    else:\n",
        "        sampled_labels = np.zeros(num_instances).reshape(-1, 1)\n",
        "        gen_samples = cgan.generator.predict([noise, sampled_labels])\n",
        "        \n",
        "    gen_df = pd.DataFrame(data = gen_samples,\n",
        "                          columns = data_columns)\n",
        "    return gen_df"
      ]
    },
    {
      "cell_type": "markdown",
      "metadata": {},
      "source": [
        "## Apply the provided training dataset to CGAN"
      ]
    },
    {
      "cell_type": "code",
      "execution_count": 17,
      "metadata": {},
      "outputs": [
        {
          "name": "stdout",
          "output_type": "stream",
          "text": [
            "[99/500]\tLoss_D: 0.6935\tLoss_G: 0.6855\n",
            "[199/500]\tLoss_D: 0.6892\tLoss_G: 0.6976\n",
            "[299/500]\tLoss_D: 0.6753\tLoss_G: 0.7006\n",
            "[399/500]\tLoss_D: 0.6458\tLoss_G: 0.7509\n",
            "[499/500]\tLoss_D: 0.6741\tLoss_G: 0.7338\n"
          ]
        },
        {
          "data": {
            "image/png": "[encoded data removed]",
            "text/plain": [
              "<Figure size 720x360 with 1 Axes>"
            ]
          },
          "metadata": {
            "needs_background": "light"
          },
          "output_type": "display_data"
        }
      ],
      "source": [
        "cgan = cGAN(out_shape=X_train.shape[1])\n",
        "y_train = y_train.values.reshape(-1,1)\n",
        "pos_index = np.where(y_train==1)[0]\n",
        "neg_index = np.where(y_train==0)[0]\n",
        "cgan.train(X_train, y_train, pos_index, neg_index, epochs=500)"
      ]
    },
    {
      "cell_type": "code",
      "execution_count": 19,
      "metadata": {},
      "outputs": [
        {
          "name": "stdout",
          "output_type": "stream",
          "text": [
            "WARNING:tensorflow:Compiled the loaded model, but the compiled metrics have yet to be built. `model.compile_metrics` will be empty until you train or evaluate the model.\n"
          ]
        }
      ],
      "source": [
        "cgan.generator.save(\"CGAN_tabular.h5\")"
      ]
    },
    {
      "cell_type": "code",
      "execution_count": 20,
      "metadata": {},
      "outputs": [],
      "source": [
        "cgan.discriminator.save(\"CGAN_tabular_discriminator.h5\")"
      ]
    },
    {
      "cell_type": "markdown",
      "metadata": {},
      "source": [
        "## Generate synthetic fake tasks via Generator network in CGAN after the training procedure"
      ]
    },
    {
      "cell_type": "markdown",
      "metadata": {},
      "source": [
        "1. try to generate 1000 of data of label 0 and another of label 1"
      ]
    },
    {
      "cell_type": "code",
      "execution_count": 21,
      "metadata": {},
      "outputs": [],
      "source": [
        "generated_df_0 = generate_instances(cgan,1000,0,data_columns = X_data.columns)\n",
        "generated_df_1 = generate_instances(cgan,1000, 1, data_columns = X_data.columns)\n",
        "traget_col = y_target.name\n",
        "\n",
        "generated_df_0[traget_col]= 0\n",
        "generated_df_1[traget_col]= 1\n",
        "\n",
        "df_gan = pd.concat([generated_df_0, generated_df_1], ignore_index=True, sort=False)\n",
        "df_gan = df_gan.sample(frac=1).reset_index(drop=True)\n",
        "\n",
        "X_test_gen = df_gan.drop(traget_col, 1).values\n",
        "y_test_gen = df_gan[traget_col].values\n"
      ]
    },
    {
      "cell_type": "markdown",
      "metadata": {},
      "source": [
        "2. try to generate 2000 of data of label 1"
      ]
    },
    {
      "cell_type": "code",
      "execution_count": 37,
      "metadata": {},
      "outputs": [],
      "source": [
        "# generated_df_0 = generate_instances(cgan,1000,0,data_columns = X_data.columns)\n",
        "generated_df_1 = generate_instances(cgan,2000, 1, data_columns = X_data.columns)\n",
        "traget_col = y_target.name\n",
        "\n",
        "# generated_df_0[traget_col]= 0\n",
        "generated_df_1[traget_col]= 0\n",
        "\n",
        "df_gan = generated_df_1.copy()#pd.concat([generated_df_0, generated_df_1], ignore_index=True, sort=False)\n",
        "df_gan = df_gan.sample(frac=1).reset_index(drop=True)\n",
        "\n",
        "X_test_gen = df_gan.drop(traget_col, 1).values\n",
        "y_test_gen = df_gan[traget_col].values"
      ]
    },
    {
      "cell_type": "markdown",
      "metadata": {},
      "source": [
        "## Mix the generated fake tasks with the original test dataset to obtain a new test dataset"
      ]
    },
    {
      "cell_type": "code",
      "execution_count": 38,
      "metadata": {},
      "outputs": [
        {
          "data": {
            "text/plain": [
              "array([1, 1, 1, ..., 0, 0, 0], dtype=int64)"
            ]
          },
          "execution_count": 38,
          "metadata": {},
          "output_type": "execute_result"
        }
      ],
      "source": [
        "X_test_mixed = np.concatenate((X_test,X_test_gen))\n",
        "y_test_mixed = np.concatenate((y_test,y_test_gen))\n",
        "y_test_mixed"
      ]
    },
    {
      "cell_type": "markdown",
      "metadata": {},
      "source": [
        "# Obtain Adaboost and RF detection performance using the new test dataset and present results in\n",
        "bar chart (This step doesn’t consider Discriminator for filtering synthetic samples). Please refer\n",
        "Figure 2 as test framework structure with test step index."
      ]
    },
    {
      "cell_type": "markdown",
      "metadata": {},
      "source": [
        "1. RF"
      ]
    },
    {
      "cell_type": "code",
      "execution_count": 39,
      "metadata": {
        "colab": {
          "base_uri": "https://localhost:8080/"
        },
        "id": "5gFWXuWZqEJk",
        "outputId": "658db02b-ad31-4be2-8bea-3378e0903533"
      },
      "outputs": [
        {
          "name": "stdout",
          "output_type": "stream",
          "text": [
            "Test Accuracy of RF mixed without discriminator =  0.5897488258117215 \n",
            "\n",
            "              precision    recall  f1-score   support\n",
            "\n",
            "           0       1.00      0.16      0.28      2390\n",
            "           1       0.56      1.00      0.71      2507\n",
            "\n",
            "    accuracy                           0.59      4897\n",
            "   macro avg       0.78      0.58      0.49      4897\n",
            "weighted avg       0.77      0.59      0.50      4897\n",
            "\n"
          ]
        }
      ],
      "source": [
        "pred_RF_mixed = RF.predict(X_test_mixed)\n",
        "Accuracy_RF_mixed= accuracy_score(y_test_mixed, pred_RF_mixed)\n",
        "print(\"Test Accuracy of RF mixed without discriminator = \",Accuracy_RF_mixed,\"\\n\")\n",
        "print(classification_report( y_test_mixed, pred_RF_mixed))"
      ]
    },
    {
      "cell_type": "markdown",
      "metadata": {
        "id": "PPJEA-VoPAWM"
      },
      "source": [
        "2.   AdaBoost (AB)"
      ]
    },
    {
      "cell_type": "code",
      "execution_count": 40,
      "metadata": {
        "colab": {
          "base_uri": "https://localhost:8080/"
        },
        "id": "fln2vbZAH97-",
        "outputId": "2587d12e-5787-401c-f1f8-d5742c7edbc4"
      },
      "outputs": [
        {
          "name": "stdout",
          "output_type": "stream",
          "text": [
            "Test Accuracy of AdaBoost mixed without discriminator =  0.5636103736981826 \n",
            "\n",
            "              precision    recall  f1-score   support\n",
            "\n",
            "           0       0.88      0.12      0.21      2390\n",
            "           1       0.54      0.98      0.70      2507\n",
            "\n",
            "    accuracy                           0.56      4897\n",
            "   macro avg       0.71      0.55      0.46      4897\n",
            "weighted avg       0.71      0.56      0.46      4897\n",
            "\n"
          ]
        }
      ],
      "source": [
        "pred_ADB_mixed = AdaBoost.predict(X_test_mixed)\n",
        "Accuracy_ADB_mixed = accuracy_score(y_test_mixed, pred_ADB_mixed)\n",
        "print(\"Test Accuracy of AdaBoost mixed without discriminator = \",Accuracy_ADB_mixed,\"\\n\")\n",
        "print(classification_report( y_test_mixed ,pred_ADB_mixed))\n"
      ]
    },
    {
      "cell_type": "markdown",
      "metadata": {},
      "source": [
        "# Verify detection performance mixed without discriminator"
      ]
    },
    {
      "cell_type": "code",
      "execution_count": 41,
      "metadata": {},
      "outputs": [
        {
          "data": {
            "image/png": "[encoded data removed]",
            "text/plain": [
              "<Figure size 600x400 with 1 Axes>"
            ]
          },
          "metadata": {
            "needs_background": "light"
          },
          "output_type": "display_data"
        }
      ],
      "source": [
        "models_names = ['RF','Adaboost']\n",
        "models_accuracies = [Accuracy_RF_mixed, Accuracy_ADB_mixed]\n",
        "plt.figure(dpi=100)\n",
        "bar = plt.bar(models_names ,models_accuracies, color= 'royalblue', align='center', alpha=0.5,width = 0.50)\n",
        "plt.title('Models comparison under mixed Test dataset')\n",
        "plt.ylabel('Accuracy')\n",
        "# plt.xticks(color = 'black',rotation = 45, horizontalalignment = 'right')\n",
        "plt.bar_label(bar)\n",
        "plt.ylim(0,1)\n",
        "plt.show()"
      ]
    },
    {
      "cell_type": "markdown",
      "metadata": {},
      "source": [
        "# verify the cascade framework performance and show results in bar chart. Consider the Discriminator to as the first level classifier\n",
        "and RF/Adaboost as the second level classifier"
      ]
    },
    {
      "cell_type": "code",
      "execution_count": 42,
      "metadata": {},
      "outputs": [
        {
          "name": "stdout",
          "output_type": "stream",
          "text": [
            "<class 'tensorflow.python.framework.ops.EagerTensor'>\n"
          ]
        },
        {
          "data": {
            "text/plain": [
              "array([[0.43224978],\n",
              "       [0.5342903 ],\n",
              "       [0.62712353],\n",
              "       ...,\n",
              "       [0.46645644],\n",
              "       [0.46543413],\n",
              "       [0.466351  ]], dtype=float32)"
            ]
          },
          "execution_count": 42,
          "metadata": {},
          "output_type": "execute_result"
        }
      ],
      "source": [
        "y_test_mixed_disc =  cgan.discriminator([X_test_mixed,y_test_mixed])\n",
        "print(type(y_test_mixed_disc))\n",
        "y_test_mixed_disc = y_test_mixed_disc.numpy()\n",
        "y_test_mixed_disc"
      ]
    },
    {
      "cell_type": "code",
      "execution_count": 43,
      "metadata": {},
      "outputs": [],
      "source": [
        "y_test_mixed_disc[y_test_mixed_disc>=.5] = 1\n",
        "y_test_mixed_disc[y_test_mixed_disc<.5] = 0\n",
        "y_test_mixed_disc = y_test_mixed_disc.astype(int)\n",
        "X_test_mixed_disc = X_test_mixed[np.where(y_test_mixed_disc ==1)[0]]\n",
        "y_test_mixed_disc = y_test_mixed_disc[y_test_mixed_disc==1]"
      ]
    },
    {
      "cell_type": "code",
      "execution_count": 44,
      "metadata": {},
      "outputs": [
        {
          "data": {
            "text/plain": [
              "array([1])"
            ]
          },
          "execution_count": 44,
          "metadata": {},
          "output_type": "execute_result"
        }
      ],
      "source": [
        "np.unique(y_test_mixed_disc)"
      ]
    },
    {
      "cell_type": "markdown",
      "metadata": {},
      "source": [
        "1. RF"
      ]
    },
    {
      "cell_type": "code",
      "execution_count": 47,
      "metadata": {
        "colab": {
          "base_uri": "https://localhost:8080/"
        },
        "id": "5gFWXuWZqEJk",
        "outputId": "658db02b-ad31-4be2-8bea-3378e0903533"
      },
      "outputs": [
        {
          "name": "stdout",
          "output_type": "stream",
          "text": [
            "Test Accuracy of RF mixed with discriminator =  0.8708133971291866 \n",
            "\n",
            "              precision    recall  f1-score   support\n",
            "\n",
            "           0       0.00      0.00      0.00         0\n",
            "           1       1.00      0.87      0.93      1463\n",
            "\n",
            "    accuracy                           0.87      1463\n",
            "   macro avg       0.50      0.44      0.47      1463\n",
            "weighted avg       1.00      0.87      0.93      1463\n",
            "\n"
          ]
        }
      ],
      "source": [
        "pred_RF_mixed_disc = RF.predict(X_test_mixed_disc)\n",
        "Accuracy_RF_mixed_disc= accuracy_score(y_test_mixed_disc, pred_RF_mixed_disc)\n",
        "print(\"Test Accuracy of RF mixed with discriminator = \",Accuracy_RF_mixed_disc,\"\\n\")\n",
        "print(classification_report( y_test_mixed_disc, pred_RF_mixed_disc))"
      ]
    },
    {
      "cell_type": "markdown",
      "metadata": {
        "id": "PPJEA-VoPAWM"
      },
      "source": [
        "2.   AdaBoost (AB)"
      ]
    },
    {
      "cell_type": "code",
      "execution_count": 48,
      "metadata": {
        "colab": {
          "base_uri": "https://localhost:8080/"
        },
        "id": "fln2vbZAH97-",
        "outputId": "2587d12e-5787-401c-f1f8-d5742c7edbc4"
      },
      "outputs": [
        {
          "name": "stdout",
          "output_type": "stream",
          "text": [
            "Test Accuracy of AdaBoost mixed with discriminator =  0.8762816131237184 \n",
            "\n",
            "              precision    recall  f1-score   support\n",
            "\n",
            "           0       0.00      0.00      0.00         0\n",
            "           1       1.00      0.88      0.93      1463\n",
            "\n",
            "    accuracy                           0.88      1463\n",
            "   macro avg       0.50      0.44      0.47      1463\n",
            "weighted avg       1.00      0.88      0.93      1463\n",
            "\n"
          ]
        }
      ],
      "source": [
        "pred_ADB_mixed_disc = AdaBoost.predict(X_test_mixed_disc)\n",
        "Accuracy_ADB_mixed_disc = accuracy_score(y_test_mixed_disc, pred_ADB_mixed_disc)\n",
        "print(\"Test Accuracy of AdaBoost mixed with discriminator = \",Accuracy_ADB_mixed_disc,\"\\n\")\n",
        "print(classification_report( y_test_mixed_disc ,pred_ADB_mixed_disc))\n"
      ]
    },
    {
      "cell_type": "markdown",
      "metadata": {},
      "source": [
        "# Verify detection performance mixed without discriminator"
      ]
    },
    {
      "cell_type": "code",
      "execution_count": 49,
      "metadata": {},
      "outputs": [
        {
          "data": {
            "image/png": "[encoded data removed]",
            "text/plain": [
              "<Figure size 600x400 with 1 Axes>"
            ]
          },
          "metadata": {
            "needs_background": "light"
          },
          "output_type": "display_data"
        }
      ],
      "source": [
        "models_names = ['RF','Adaboost']\n",
        "models_accuracies = [Accuracy_RF_mixed_disc, Accuracy_ADB_mixed_disc]\n",
        "plt.figure(dpi=100)\n",
        "bar = plt.bar(models_names ,models_accuracies, color= 'royalblue', align='center', alpha=0.5,width = 0.50)\n",
        "plt.title('Models comparison under mixed Test dataset with Discriminator')\n",
        "plt.ylabel('Accuracy')\n",
        "# plt.xticks(color = 'black',rotation = 45, horizontalalignment = 'right')\n",
        "plt.bar_label(bar)\n",
        "plt.ylim(0,1)\n",
        "plt.show()"
      ]
    },
    {
      "cell_type": "code",
      "execution_count": null,
      "metadata": {},
      "outputs": [],
      "source": []
    }
  ],
  "metadata": {
    "colab": {
      "collapsed_sections": [],
      "name": "Group4_Assignment2.ipynb",
      "provenance": []
    },
    "kernelspec": {
      "display_name": "Python 3.9.7 ('tf')",
      "language": "python",
      "name": "python3"
    },
    "language_info": {
      "codemirror_mode": {
        "name": "ipython",
        "version": 3
      },
      "file_extension": ".py",
      "mimetype": "text/x-python",
      "name": "python",
      "nbconvert_exporter": "python",
      "pygments_lexer": "ipython3",
      "version": "3.9.7"
    },
    "vscode": {
      "interpreter": {
        "hash": "fa01416571b4275a2309b961d1bd16d947c31c3c9a0101a66fce0e66d3b1e2ad"
      }
    }
  },
  "nbformat": 4,
  "nbformat_minor": 0
}
